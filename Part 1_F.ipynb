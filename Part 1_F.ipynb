{
 "cells": [
  {
   "cell_type": "markdown",
   "source": [
    "# **00-1.목적**"
   ],
   "metadata": {}
  },
  {
   "cell_type": "markdown",
   "source": [
    "## **분석실무 역량 제고**"
   ],
   "metadata": {}
  },
  {
   "cell_type": "markdown",
   "source": [
    "### 본 강의 목적은 분석 실무에서 접하는 다양한 문제를 이해하고 직접 해결해보는 경험을 통해 실무 역량을 제고하는 것이다. 일차적으로, 필자의 실제 프로젝트 경험을 공유하고 같이 고민하면서 실제 실무 사례를 간접 경험하는 것이 첫 번째 목표이다. 그리고 마지막 3주 기간에는 개인이 직접 분석을 진행해보면서 문제를 해결해보는 것이 본 강의의 목적이다."
   ],
   "metadata": {}
  },
  {
   "cell_type": "markdown",
   "source": [
    "* ### 분석 환경/배경의 이해(1주)\r\n",
    "\r\n",
    "* ### 데이터 분석 실무 이해(4주)\r\n",
    "* ### 개인별 프로젝트 진행(3주)\r\n"
   ],
   "metadata": {}
  },
  {
   "cell_type": "markdown",
   "source": [
    "### 실제 실무에서 쓰이는 데이터는 정제되지 않은 데이터가 대부분이고, 데이터의 이해나 비즈니스 맥락 등 복합적인 요소를 동시에 고려할 필요가 있다. 참고는 하되, 필자의 경험은 단 하나의 사례일 뿐 절대적인 정답이나 솔루션은 아니므로 비판적으로 사고하면서 적극적으로 수업에 참여할 필요가 있다."
   ],
   "metadata": {}
  },
  {
   "cell_type": "markdown",
   "source": [
    "### 또, 실제 앱에서 유저가 남긴 로그 데이터를 실습 데이터로 활용해 비정형 데이터를 다루는 경험을 제공하고자 하였다. 무엇보다, 본인이 직접 프로젝트를 맡게된 분석가라고 생각하고 계속적으로 자유롭게 사고/질문하면서 수업에 적극적으로 참여하는 태도가 필요하다. 일방향 주입식이 아닌 쌍방향 소통이 중요한 토론식임을 감안하여 수업에 참여하는 것을 권장한다."
   ],
   "metadata": {}
  },
  {
   "cell_type": "markdown",
   "source": [
    "## **프로세스 이해**"
   ],
   "metadata": {}
  },
  {
   "cell_type": "markdown",
   "source": [
    "### 위와 같은 기술적 내용과 더불어, 아래 나열한 소프트 스킬을 제고하여 분석 결과의 전달력과 효과성을 높이는 것 역시 중요하다. 자동차 엔진으로 비유하자면, 위와 같은 기술적 내용은 엔진의 기계 파트라고 할수 있다. 이러한 기계 파트가 유연하게 작동하기 위해 엔진오일과 냉각수 등이 필요한 것처럼 아래 소프트 스킬이 그러한 역할을 한다."
   ],
   "metadata": {}
  },
  {
   "cell_type": "markdown",
   "source": [
    "* ### 데이터 분석가로서 마인드셋/태도/원칙\r\n",
    "* ### 커뮤니케이션 방식 / 보고서 작성법\r\n",
    "* ### 비즈니스 문제 정의/해결 방안 고민\r\n",
    "* ### 비즈니스 본질 및 주요 고객에 대한 이해"
   ],
   "metadata": {}
  },
  {
   "cell_type": "markdown",
   "source": [
    "# **00-2. Target Audience**"
   ],
   "metadata": {}
  },
  {
   "cell_type": "markdown",
   "source": [
    "## **필요한 사전지식**"
   ],
   "metadata": {}
  },
  {
   "cell_type": "markdown",
   "source": [
    "### 본 강의는 실무에 실제 쓰이는 프로그래밍 코드와 실용적인 통계/머신러닝 방법론을 중심으로 구성되었다. 만약 사전에 아래 지식 및 스킬을 보유하고 있을 경우, 본 강의를 보다 쉽게 이해할 수 있으며 높은 교육 효과를 기대할 수 있다."
   ],
   "metadata": {}
  },
  {
   "cell_type": "markdown",
   "source": [
    "* ### Python(for문, if문, lambda함수, list comprehension, slicing 등)을 통해 원하는 형태의 데이터셋을 만들 수 있음\r\n",
    "* ### Numpy, Pandas, Scipy, Statsmodel, Scikit-learn, Matplotlib 등의 라이브러리 기본 사용법을 알고 있음\r\n",
    "* ### 통계 및 머신러닝에 대한 기초 지식을 보유하고 있음\r\n",
    "    * ### ANOVA, T-test 등 통계적 가설 검정 방법 및 해석 방법, 개념 등에 대해 이해함\r\n",
    "    * ### Ridge/LASSO Regression, Logistic Regression, RandomForest, SVM, ANN 등 머신러닝 모델을 이해함\r\n",
    "    * ### Confusion Matrix, AUC, R-sqaured, RMSE 등 모델 평가 방법을 알고 있음\r\n",
    "    * ### Grid Search 및 K-fold CV 등을 통해 모델의 파라메터 튜닝 방법을 알고 있음\r\n",
    "    * ### 표준화, 로그 transformation, Polynomial/Interaction항 등 주요 Feature Engineering 방법을 알고 있음\r\n",
    "* ### SQL 코드를 작성하여 db에서 원하는 테이블을 추출/조인할 수 있음\r\n",
    "\r\n",
    "### 위에 나열된 사전 지식/스킬이 필수는 아니지만, 대략적인 개념과 기초가 부족할 경우 강의 내용을 이해하는 데 어려움이 있을 수 있다.<br>따라서 부족한 부분은 별도의 노력으로 보충하는 것을 권장한다. (아래 링크 참고)"
   ],
   "metadata": {}
  },
  {
   "cell_type": "markdown",
   "source": [
    "![screenshot](.\\img\\1.png \"1_Sh\")"
   ],
   "metadata": {}
  },
  {
   "cell_type": "markdown",
   "source": [],
   "metadata": {}
  },
  {
   "cell_type": "markdown",
   "source": [
    "# **00-3. 목차**"
   ],
   "metadata": {}
  },
  {
   "cell_type": "markdown",
   "source": [
    "## **1회차 Part 1: 분석실무에 대한 이해**\r\n",
    "## **2회차 Part 2: 데이터 수집 및 처리 시스템 소개**\r\n",
    "## **3회차: 유저 Funnel 분석을 통해 이탈 구간 개선**\r\n",
    "## **4회차: 결제 예측 모델을 통한 결제율 제고**\r\n",
    "## **5회차: 신규 비즈니스 지표 개발**\r\n",
    "## **6회차: 랭킹 및 추천 로직 설계**\r\n",
    "## **7~9회차: 개별 프로젝트**"
   ],
   "metadata": {}
  }
 ],
 "metadata": {
  "language_info": {
   "name": "python",
   "version": "3.8.10",
   "mimetype": "text/x-python",
   "codemirror_mode": {
    "name": "ipython",
    "version": 3
   },
   "pygments_lexer": "ipython3",
   "nbconvert_exporter": "python",
   "file_extension": ".py"
  },
  "kernelspec": {
   "name": "python3",
   "display_name": "Python 3.8.10 64-bit ('AIMath': conda)"
  },
  "interpreter": {
   "hash": "53a6f66994d44a531c15dda9534cca6a0a046d02bce3524de6c1f8e9a8c07fb2"
  }
 },
 "nbformat": 4,
 "nbformat_minor": 5
}
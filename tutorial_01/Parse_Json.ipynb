{
 "cells": [
  {
   "cell_type": "markdown",
   "source": [
    "## Json Parsing"
   ],
   "metadata": {}
  },
  {
   "cell_type": "code",
   "execution_count": 1,
   "source": [
    "import json\r\n",
    "import pandas as pd\r\n",
    "\r\n",
    "data= []\r\n",
    "mydf = pd.DataFrame()\r\n",
    "\r\n",
    "# to parse json files\r\n",
    "with open('./ds_tutorial_json.json') as f:\r\n",
    "    for line in f:\r\n",
    "        data.append(json.loads(line))\r\n",
    "        \r\n",
    "    # convert json to df\r\n",
    "    for i in range(0, len(data)):\r\n",
    "        df = pd.DataFrame.from_dict([data[i]])\r\n",
    "        mydf = mydf.append(df)\r\n",
    "        \r\n",
    "# reset index\r\n",
    "mydf.reset_index(drop=True, inplace=True)"
   ],
   "outputs": [],
   "metadata": {}
  },
  {
   "cell_type": "code",
   "execution_count": 2,
   "source": [
    "mydf.head()"
   ],
   "outputs": [
    {
     "output_type": "execute_result",
     "data": {
      "text/html": [
       "<div>\n",
       "<style scoped>\n",
       "    .dataframe tbody tr th:only-of-type {\n",
       "        vertical-align: middle;\n",
       "    }\n",
       "\n",
       "    .dataframe tbody tr th {\n",
       "        vertical-align: top;\n",
       "    }\n",
       "\n",
       "    .dataframe thead th {\n",
       "        text-align: right;\n",
       "    }\n",
       "</style>\n",
       "<table border=\"1\" class=\"dataframe\">\n",
       "  <thead>\n",
       "    <tr style=\"text-align: right;\">\n",
       "      <th></th>\n",
       "      <th>date</th>\n",
       "      <th>memno</th>\n",
       "      <th>screen</th>\n",
       "      <th>event</th>\n",
       "      <th>ver</th>\n",
       "      <th>area</th>\n",
       "      <th>group</th>\n",
       "    </tr>\n",
       "  </thead>\n",
       "  <tbody>\n",
       "    <tr>\n",
       "      <th>0</th>\n",
       "      <td>1511947418</td>\n",
       "      <td>1101</td>\n",
       "      <td>intro</td>\n",
       "      <td>view</td>\n",
       "      <td>0.1</td>\n",
       "      <td>seoul</td>\n",
       "      <td>a</td>\n",
       "    </tr>\n",
       "    <tr>\n",
       "      <th>1</th>\n",
       "      <td>1511947418</td>\n",
       "      <td>1101</td>\n",
       "      <td>intro</td>\n",
       "      <td>view</td>\n",
       "      <td>0.2</td>\n",
       "      <td>taegu</td>\n",
       "      <td>a</td>\n",
       "    </tr>\n",
       "    <tr>\n",
       "      <th>2</th>\n",
       "      <td>1511947418</td>\n",
       "      <td>1102</td>\n",
       "      <td>detail</td>\n",
       "      <td>view</td>\n",
       "      <td>0.2</td>\n",
       "      <td>gyenggi</td>\n",
       "      <td>b</td>\n",
       "    </tr>\n",
       "    <tr>\n",
       "      <th>3</th>\n",
       "      <td>1511947418</td>\n",
       "      <td>1102</td>\n",
       "      <td>detail</td>\n",
       "      <td>clk</td>\n",
       "      <td>0.2</td>\n",
       "      <td>seoul</td>\n",
       "      <td>b</td>\n",
       "    </tr>\n",
       "    <tr>\n",
       "      <th>4</th>\n",
       "      <td>1511947418</td>\n",
       "      <td>1102</td>\n",
       "      <td>main</td>\n",
       "      <td>clk</td>\n",
       "      <td>0.2</td>\n",
       "      <td>seoul</td>\n",
       "      <td>c</td>\n",
       "    </tr>\n",
       "  </tbody>\n",
       "</table>\n",
       "</div>"
      ],
      "text/plain": [
       "         date memno  screen event  ver     area group\n",
       "0  1511947418  1101   intro  view  0.1    seoul     a\n",
       "1  1511947418  1101   intro  view  0.2    taegu     a\n",
       "2  1511947418  1102  detail  view  0.2  gyenggi     b\n",
       "3  1511947418  1102  detail   clk  0.2    seoul     b\n",
       "4  1511947418  1102    main   clk  0.2    seoul     c"
      ]
     },
     "metadata": {},
     "execution_count": 2
    }
   ],
   "metadata": {}
  },
  {
   "cell_type": "code",
   "execution_count": 3,
   "source": [
    "mydf.info()"
   ],
   "outputs": [
    {
     "output_type": "stream",
     "name": "stdout",
     "text": [
      "<class 'pandas.core.frame.DataFrame'>\n",
      "RangeIndex: 120 entries, 0 to 119\n",
      "Data columns (total 7 columns):\n",
      " #   Column  Non-Null Count  Dtype \n",
      "---  ------  --------------  ----- \n",
      " 0   date    120 non-null    object\n",
      " 1   memno   120 non-null    object\n",
      " 2   screen  120 non-null    object\n",
      " 3   event   120 non-null    object\n",
      " 4   ver     120 non-null    object\n",
      " 5   area    120 non-null    object\n",
      " 6   group   120 non-null    object\n",
      "dtypes: object(7)\n",
      "memory usage: 6.7+ KB\n"
     ]
    }
   ],
   "metadata": {}
  },
  {
   "cell_type": "code",
   "execution_count": 4,
   "source": [
    "# change column types\r\n",
    "mydf['date'] = pd.to_datetime(mydf['date'], unit='s').dt.date\r\n",
    "mydf['date'] = mydf['date'].astype('datetime64[ns]')"
   ],
   "outputs": [],
   "metadata": {}
  },
  {
   "cell_type": "code",
   "execution_count": 5,
   "source": [
    "mydf.head()"
   ],
   "outputs": [
    {
     "output_type": "execute_result",
     "data": {
      "text/html": [
       "<div>\n",
       "<style scoped>\n",
       "    .dataframe tbody tr th:only-of-type {\n",
       "        vertical-align: middle;\n",
       "    }\n",
       "\n",
       "    .dataframe tbody tr th {\n",
       "        vertical-align: top;\n",
       "    }\n",
       "\n",
       "    .dataframe thead th {\n",
       "        text-align: right;\n",
       "    }\n",
       "</style>\n",
       "<table border=\"1\" class=\"dataframe\">\n",
       "  <thead>\n",
       "    <tr style=\"text-align: right;\">\n",
       "      <th></th>\n",
       "      <th>date</th>\n",
       "      <th>memno</th>\n",
       "      <th>screen</th>\n",
       "      <th>event</th>\n",
       "      <th>ver</th>\n",
       "      <th>area</th>\n",
       "      <th>group</th>\n",
       "    </tr>\n",
       "  </thead>\n",
       "  <tbody>\n",
       "    <tr>\n",
       "      <th>0</th>\n",
       "      <td>2017-11-29</td>\n",
       "      <td>1101</td>\n",
       "      <td>intro</td>\n",
       "      <td>view</td>\n",
       "      <td>0.1</td>\n",
       "      <td>seoul</td>\n",
       "      <td>a</td>\n",
       "    </tr>\n",
       "    <tr>\n",
       "      <th>1</th>\n",
       "      <td>2017-11-29</td>\n",
       "      <td>1101</td>\n",
       "      <td>intro</td>\n",
       "      <td>view</td>\n",
       "      <td>0.2</td>\n",
       "      <td>taegu</td>\n",
       "      <td>a</td>\n",
       "    </tr>\n",
       "    <tr>\n",
       "      <th>2</th>\n",
       "      <td>2017-11-29</td>\n",
       "      <td>1102</td>\n",
       "      <td>detail</td>\n",
       "      <td>view</td>\n",
       "      <td>0.2</td>\n",
       "      <td>gyenggi</td>\n",
       "      <td>b</td>\n",
       "    </tr>\n",
       "    <tr>\n",
       "      <th>3</th>\n",
       "      <td>2017-11-29</td>\n",
       "      <td>1102</td>\n",
       "      <td>detail</td>\n",
       "      <td>clk</td>\n",
       "      <td>0.2</td>\n",
       "      <td>seoul</td>\n",
       "      <td>b</td>\n",
       "    </tr>\n",
       "    <tr>\n",
       "      <th>4</th>\n",
       "      <td>2017-11-29</td>\n",
       "      <td>1102</td>\n",
       "      <td>main</td>\n",
       "      <td>clk</td>\n",
       "      <td>0.2</td>\n",
       "      <td>seoul</td>\n",
       "      <td>c</td>\n",
       "    </tr>\n",
       "  </tbody>\n",
       "</table>\n",
       "</div>"
      ],
      "text/plain": [
       "        date memno  screen event  ver     area group\n",
       "0 2017-11-29  1101   intro  view  0.1    seoul     a\n",
       "1 2017-11-29  1101   intro  view  0.2    taegu     a\n",
       "2 2017-11-29  1102  detail  view  0.2  gyenggi     b\n",
       "3 2017-11-29  1102  detail   clk  0.2    seoul     b\n",
       "4 2017-11-29  1102    main   clk  0.2    seoul     c"
      ]
     },
     "metadata": {},
     "execution_count": 5
    }
   ],
   "metadata": {}
  },
  {
   "cell_type": "code",
   "execution_count": 6,
   "source": [
    "mydf.info()"
   ],
   "outputs": [
    {
     "output_type": "stream",
     "name": "stdout",
     "text": [
      "<class 'pandas.core.frame.DataFrame'>\n",
      "RangeIndex: 120 entries, 0 to 119\n",
      "Data columns (total 7 columns):\n",
      " #   Column  Non-Null Count  Dtype         \n",
      "---  ------  --------------  -----         \n",
      " 0   date    120 non-null    datetime64[ns]\n",
      " 1   memno   120 non-null    object        \n",
      " 2   screen  120 non-null    object        \n",
      " 3   event   120 non-null    object        \n",
      " 4   ver     120 non-null    object        \n",
      " 5   area    120 non-null    object        \n",
      " 6   group   120 non-null    object        \n",
      "dtypes: datetime64[ns](1), object(6)\n",
      "memory usage: 6.7+ KB\n"
     ]
    }
   ],
   "metadata": {}
  }
 ],
 "metadata": {
  "kernelspec": {
   "name": "python3",
   "display_name": "Python 3.8.10 64-bit ('AIMath': conda)"
  },
  "language_info": {
   "codemirror_mode": {
    "name": "ipython",
    "version": 3
   },
   "file_extension": ".py",
   "mimetype": "text/x-python",
   "name": "python",
   "nbconvert_exporter": "python",
   "pygments_lexer": "ipython3",
   "version": "3.8.10"
  },
  "interpreter": {
   "hash": "53a6f66994d44a531c15dda9534cca6a0a046d02bce3524de6c1f8e9a8c07fb2"
  }
 },
 "nbformat": 4,
 "nbformat_minor": 2
}
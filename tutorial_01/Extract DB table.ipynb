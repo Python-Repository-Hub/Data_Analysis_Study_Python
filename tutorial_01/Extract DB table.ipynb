{
 "cells": [
  {
   "cell_type": "markdown",
   "source": [
    "## Extracting from DB with SQL, Pandas\r\n",
    "\r\n",
    "**To install the library:**   \r\n"
   ],
   "metadata": {}
  },
  {
   "cell_type": "code",
   "execution_count": 56,
   "source": [
    "! pip install -U pandasql  "
   ],
   "outputs": [
    {
     "output_type": "stream",
     "name": "stdout",
     "text": [
      "Requirement already satisfied: pandasql in c:\\users\\user\\anaconda3\\envs\\aimath\\lib\\site-packages (0.7.3)\n",
      "Requirement already satisfied: pandas in c:\\users\\user\\anaconda3\\envs\\aimath\\lib\\site-packages (from pandasql) (1.2.5)\n",
      "Requirement already satisfied: numpy in c:\\users\\user\\anaconda3\\envs\\aimath\\lib\\site-packages (from pandasql) (1.20.2)\n",
      "Requirement already satisfied: sqlalchemy in c:\\users\\user\\anaconda3\\envs\\aimath\\lib\\site-packages (from pandasql) (1.4.23)\n",
      "Requirement already satisfied: pytz>=2017.3 in c:\\users\\user\\anaconda3\\envs\\aimath\\lib\\site-packages (from pandas->pandasql) (2021.1)\n",
      "Requirement already satisfied: python-dateutil>=2.7.3 in c:\\users\\user\\anaconda3\\envs\\aimath\\lib\\site-packages (from pandas->pandasql) (2.8.1)\n",
      "Requirement already satisfied: six>=1.5 in c:\\users\\user\\anaconda3\\envs\\aimath\\lib\\site-packages (from python-dateutil>=2.7.3->pandas->pandasql) (1.16.0)\n",
      "Requirement already satisfied: greenlet!=0.4.17 in c:\\users\\user\\anaconda3\\envs\\aimath\\lib\\site-packages (from sqlalchemy->pandasql) (1.1.1)\n"
     ]
    }
   ],
   "metadata": {}
  },
  {
   "cell_type": "markdown",
   "source": [
    "# **test**"
   ],
   "metadata": {}
  },
  {
   "cell_type": "code",
   "execution_count": 57,
   "source": [
    "import pandas as pd\r\n",
    "import numpy as np"
   ],
   "outputs": [],
   "metadata": {}
  },
  {
   "cell_type": "code",
   "execution_count": 58,
   "source": [
    "df = pd.read_csv(\"./doc_use_log.csv\")\\\r\n",
    "       .sample(frac=0.01, replace=False)"
   ],
   "outputs": [],
   "metadata": {}
  },
  {
   "cell_type": "code",
   "execution_count": 59,
   "source": [
    "df.head()"
   ],
   "outputs": [
    {
     "output_type": "execute_result",
     "data": {
      "text/html": [
       "<div>\n",
       "<style scoped>\n",
       "    .dataframe tbody tr th:only-of-type {\n",
       "        vertical-align: middle;\n",
       "    }\n",
       "\n",
       "    .dataframe tbody tr th {\n",
       "        vertical-align: top;\n",
       "    }\n",
       "\n",
       "    .dataframe thead th {\n",
       "        text-align: right;\n",
       "    }\n",
       "</style>\n",
       "<table border=\"1\" class=\"dataframe\">\n",
       "  <thead>\n",
       "    <tr style=\"text-align: right;\">\n",
       "      <th></th>\n",
       "      <th>actiontype</th>\n",
       "      <th>ismydoc</th>\n",
       "      <th>ext</th>\n",
       "      <th>sessionid</th>\n",
       "      <th>documentposition</th>\n",
       "      <th>datetime</th>\n",
       "    </tr>\n",
       "  </thead>\n",
       "  <tbody>\n",
       "    <tr>\n",
       "      <th>193350</th>\n",
       "      <td>OPEN</td>\n",
       "      <td>False</td>\n",
       "      <td>DOCX</td>\n",
       "      <td>486acd701c13cd4339617f32dc595e6b</td>\n",
       "      <td>OTHERAPP</td>\n",
       "      <td>2016.7.9</td>\n",
       "    </tr>\n",
       "    <tr>\n",
       "      <th>109887</th>\n",
       "      <td>CLOSE</td>\n",
       "      <td>True</td>\n",
       "      <td>XLS</td>\n",
       "      <td>d1c2817a5ff1bf4b0ad4c914850871c9</td>\n",
       "      <td>OTHERAPP</td>\n",
       "      <td>2016.7.21</td>\n",
       "    </tr>\n",
       "    <tr>\n",
       "      <th>100239</th>\n",
       "      <td>OPEN</td>\n",
       "      <td>True</td>\n",
       "      <td>HWP</td>\n",
       "      <td>31b9a5d8b42fd0b24b6177ec9f51c947</td>\n",
       "      <td>OTHERAPP</td>\n",
       "      <td>2016.7.11</td>\n",
       "    </tr>\n",
       "    <tr>\n",
       "      <th>221157</th>\n",
       "      <td>CLOSE</td>\n",
       "      <td>False</td>\n",
       "      <td>DOCX</td>\n",
       "      <td>0402e047bafe86a8f32160eca341fb51</td>\n",
       "      <td>OTHERAPP</td>\n",
       "      <td>2016.7.18</td>\n",
       "    </tr>\n",
       "    <tr>\n",
       "      <th>275949</th>\n",
       "      <td>CLOSE</td>\n",
       "      <td>True</td>\n",
       "      <td>DOC</td>\n",
       "      <td>01e78a53c271a3ec67122faadc0f08ff</td>\n",
       "      <td>OTHERAPP</td>\n",
       "      <td>2016.7.22</td>\n",
       "    </tr>\n",
       "  </tbody>\n",
       "</table>\n",
       "</div>"
      ],
      "text/plain": [
       "       actiontype  ismydoc   ext                         sessionid  \\\n",
       "193350       OPEN    False  DOCX  486acd701c13cd4339617f32dc595e6b   \n",
       "109887      CLOSE     True   XLS  d1c2817a5ff1bf4b0ad4c914850871c9   \n",
       "100239       OPEN     True   HWP  31b9a5d8b42fd0b24b6177ec9f51c947   \n",
       "221157      CLOSE    False  DOCX  0402e047bafe86a8f32160eca341fb51   \n",
       "275949      CLOSE     True   DOC  01e78a53c271a3ec67122faadc0f08ff   \n",
       "\n",
       "       documentposition   datetime  \n",
       "193350         OTHERAPP   2016.7.9  \n",
       "109887         OTHERAPP  2016.7.21  \n",
       "100239         OTHERAPP  2016.7.11  \n",
       "221157         OTHERAPP  2016.7.18  \n",
       "275949         OTHERAPP  2016.7.22  "
      ]
     },
     "metadata": {},
     "execution_count": 59
    }
   ],
   "metadata": {}
  },
  {
   "cell_type": "code",
   "execution_count": 60,
   "source": [
    "type(df)"
   ],
   "outputs": [
    {
     "output_type": "execute_result",
     "data": {
      "text/plain": [
       "pandas.core.frame.DataFrame"
      ]
     },
     "metadata": {},
     "execution_count": 60
    }
   ],
   "metadata": {}
  },
  {
   "cell_type": "code",
   "execution_count": 61,
   "source": [
    "df.info()"
   ],
   "outputs": [
    {
     "output_type": "stream",
     "name": "stdout",
     "text": [
      "<class 'pandas.core.frame.DataFrame'>\n",
      "Int64Index: 3019 entries, 193350 to 76511\n",
      "Data columns (total 6 columns):\n",
      " #   Column            Non-Null Count  Dtype \n",
      "---  ------            --------------  ----- \n",
      " 0   actiontype        3019 non-null   object\n",
      " 1   ismydoc           3019 non-null   bool  \n",
      " 2   ext               3019 non-null   object\n",
      " 3   sessionid         3019 non-null   object\n",
      " 4   documentposition  3019 non-null   object\n",
      " 5   datetime          3019 non-null   object\n",
      "dtypes: bool(1), object(5)\n",
      "memory usage: 144.5+ KB\n"
     ]
    }
   ],
   "metadata": {}
  },
  {
   "cell_type": "markdown",
   "source": [
    "### About Pandasql\r\n",
    "Reference: http://blog.yhat.com/posts/pandasql-sql-for-pandas-dataframes.html    \r\n",
    "\r\n",
    "> locals() vs. globals()\r\n",
    "pandasql needs to have access to other variables in your session/environment. You can pass locals() to pandasql when executing a SQL statement, but if you're running a lot of queries that might be a pain. To avoid passing locals all the time, you can add this helper function to your script to set globals() like so:"
   ],
   "metadata": {}
  },
  {
   "cell_type": "code",
   "execution_count": 62,
   "source": [
    "from pandasql import *"
   ],
   "outputs": [],
   "metadata": {}
  },
  {
   "cell_type": "code",
   "execution_count": 63,
   "source": [
    "q = \"\"\"\r\n",
    "    SELECT * \r\n",
    "      FROM df \r\n",
    "     WHERE ext = 'PDF'\r\n",
    "       AND ismydoc = '0'\r\n",
    "     LIMIT 10\r\n",
    "    \"\"\""
   ],
   "outputs": [],
   "metadata": {}
  },
  {
   "cell_type": "code",
   "execution_count": 64,
   "source": [
    "print(sqldf(q, locals()).to_string())"
   ],
   "outputs": [
    {
     "output_type": "stream",
     "name": "stdout",
     "text": [
      "  actiontype  ismydoc  ext                         sessionid documentposition   datetime\n",
      "0       OPEN        0  PDF  1b5c388142297696f27fa2f3029df7e1         OTHERAPP  2016.7.23\n",
      "1      CLOSE        0  PDF  415b278570d849927289b073d488edf3         OTHERAPP  2016.7.14\n",
      "2      CLOSE        0  PDF  f9a2703d8429227287edc227f9098acb         OTHERAPP  2016.7.11\n",
      "3       OPEN        0  PDF  7d03eb89d3a0128729f10134205f08c3     LOCALSTORAGE   2016.7.9\n",
      "4       OPEN        0  PDF  15c2c517ef057c02decdf4b90dfde535       OTHERCLOUD  2016.7.13\n",
      "5       OPEN        0  PDF  8976b75bcb2eb04254b4a0f2aeb94eda         OTHERAPP  2016.7.13\n",
      "6      CLOSE        0  PDF  a4d9d10acf84579d6bf787b4598a1766         OTHERAPP   2016.7.4\n",
      "7       OPEN        0  PDF  6bb660e67f03bf83d8426239d5ac0604         OTHERAPP  2016.7.17\n",
      "8       OPEN        0  PDF  cebfd555bbf19901d18bf16071b4d21b         OTHERAPP  2016.7.20\n",
      "9       OPEN        0  PDF  27745cb5a8b332671f9d19a43e2f6c8c         OTHERAPP  2016.7.21\n"
     ]
    }
   ],
   "metadata": {}
  },
  {
   "cell_type": "code",
   "execution_count": 65,
   "source": [
    "# pandas\r\n",
    "df[(df['ext'] == 'PDF') & (df['ismydoc'] == 0)].head(10)"
   ],
   "outputs": [
    {
     "output_type": "execute_result",
     "data": {
      "text/html": [
       "<div>\n",
       "<style scoped>\n",
       "    .dataframe tbody tr th:only-of-type {\n",
       "        vertical-align: middle;\n",
       "    }\n",
       "\n",
       "    .dataframe tbody tr th {\n",
       "        vertical-align: top;\n",
       "    }\n",
       "\n",
       "    .dataframe thead th {\n",
       "        text-align: right;\n",
       "    }\n",
       "</style>\n",
       "<table border=\"1\" class=\"dataframe\">\n",
       "  <thead>\n",
       "    <tr style=\"text-align: right;\">\n",
       "      <th></th>\n",
       "      <th>actiontype</th>\n",
       "      <th>ismydoc</th>\n",
       "      <th>ext</th>\n",
       "      <th>sessionid</th>\n",
       "      <th>documentposition</th>\n",
       "      <th>datetime</th>\n",
       "    </tr>\n",
       "  </thead>\n",
       "  <tbody>\n",
       "    <tr>\n",
       "      <th>66144</th>\n",
       "      <td>OPEN</td>\n",
       "      <td>False</td>\n",
       "      <td>PDF</td>\n",
       "      <td>1b5c388142297696f27fa2f3029df7e1</td>\n",
       "      <td>OTHERAPP</td>\n",
       "      <td>2016.7.23</td>\n",
       "    </tr>\n",
       "    <tr>\n",
       "      <th>7914</th>\n",
       "      <td>CLOSE</td>\n",
       "      <td>False</td>\n",
       "      <td>PDF</td>\n",
       "      <td>415b278570d849927289b073d488edf3</td>\n",
       "      <td>OTHERAPP</td>\n",
       "      <td>2016.7.14</td>\n",
       "    </tr>\n",
       "    <tr>\n",
       "      <th>126824</th>\n",
       "      <td>CLOSE</td>\n",
       "      <td>False</td>\n",
       "      <td>PDF</td>\n",
       "      <td>f9a2703d8429227287edc227f9098acb</td>\n",
       "      <td>OTHERAPP</td>\n",
       "      <td>2016.7.11</td>\n",
       "    </tr>\n",
       "    <tr>\n",
       "      <th>9069</th>\n",
       "      <td>OPEN</td>\n",
       "      <td>False</td>\n",
       "      <td>PDF</td>\n",
       "      <td>7d03eb89d3a0128729f10134205f08c3</td>\n",
       "      <td>LOCALSTORAGE</td>\n",
       "      <td>2016.7.9</td>\n",
       "    </tr>\n",
       "    <tr>\n",
       "      <th>47815</th>\n",
       "      <td>OPEN</td>\n",
       "      <td>False</td>\n",
       "      <td>PDF</td>\n",
       "      <td>15c2c517ef057c02decdf4b90dfde535</td>\n",
       "      <td>OTHERCLOUD</td>\n",
       "      <td>2016.7.13</td>\n",
       "    </tr>\n",
       "    <tr>\n",
       "      <th>168151</th>\n",
       "      <td>OPEN</td>\n",
       "      <td>False</td>\n",
       "      <td>PDF</td>\n",
       "      <td>8976b75bcb2eb04254b4a0f2aeb94eda</td>\n",
       "      <td>OTHERAPP</td>\n",
       "      <td>2016.7.13</td>\n",
       "    </tr>\n",
       "    <tr>\n",
       "      <th>250706</th>\n",
       "      <td>CLOSE</td>\n",
       "      <td>False</td>\n",
       "      <td>PDF</td>\n",
       "      <td>a4d9d10acf84579d6bf787b4598a1766</td>\n",
       "      <td>OTHERAPP</td>\n",
       "      <td>2016.7.4</td>\n",
       "    </tr>\n",
       "    <tr>\n",
       "      <th>191227</th>\n",
       "      <td>OPEN</td>\n",
       "      <td>False</td>\n",
       "      <td>PDF</td>\n",
       "      <td>6bb660e67f03bf83d8426239d5ac0604</td>\n",
       "      <td>OTHERAPP</td>\n",
       "      <td>2016.7.17</td>\n",
       "    </tr>\n",
       "    <tr>\n",
       "      <th>12671</th>\n",
       "      <td>OPEN</td>\n",
       "      <td>False</td>\n",
       "      <td>PDF</td>\n",
       "      <td>cebfd555bbf19901d18bf16071b4d21b</td>\n",
       "      <td>OTHERAPP</td>\n",
       "      <td>2016.7.20</td>\n",
       "    </tr>\n",
       "    <tr>\n",
       "      <th>214099</th>\n",
       "      <td>OPEN</td>\n",
       "      <td>False</td>\n",
       "      <td>PDF</td>\n",
       "      <td>27745cb5a8b332671f9d19a43e2f6c8c</td>\n",
       "      <td>OTHERAPP</td>\n",
       "      <td>2016.7.21</td>\n",
       "    </tr>\n",
       "  </tbody>\n",
       "</table>\n",
       "</div>"
      ],
      "text/plain": [
       "       actiontype  ismydoc  ext                         sessionid  \\\n",
       "66144        OPEN    False  PDF  1b5c388142297696f27fa2f3029df7e1   \n",
       "7914        CLOSE    False  PDF  415b278570d849927289b073d488edf3   \n",
       "126824      CLOSE    False  PDF  f9a2703d8429227287edc227f9098acb   \n",
       "9069         OPEN    False  PDF  7d03eb89d3a0128729f10134205f08c3   \n",
       "47815        OPEN    False  PDF  15c2c517ef057c02decdf4b90dfde535   \n",
       "168151       OPEN    False  PDF  8976b75bcb2eb04254b4a0f2aeb94eda   \n",
       "250706      CLOSE    False  PDF  a4d9d10acf84579d6bf787b4598a1766   \n",
       "191227       OPEN    False  PDF  6bb660e67f03bf83d8426239d5ac0604   \n",
       "12671        OPEN    False  PDF  cebfd555bbf19901d18bf16071b4d21b   \n",
       "214099       OPEN    False  PDF  27745cb5a8b332671f9d19a43e2f6c8c   \n",
       "\n",
       "       documentposition   datetime  \n",
       "66144          OTHERAPP  2016.7.23  \n",
       "7914           OTHERAPP  2016.7.14  \n",
       "126824         OTHERAPP  2016.7.11  \n",
       "9069       LOCALSTORAGE   2016.7.9  \n",
       "47815        OTHERCLOUD  2016.7.13  \n",
       "168151         OTHERAPP  2016.7.13  \n",
       "250706         OTHERAPP   2016.7.4  \n",
       "191227         OTHERAPP  2016.7.17  \n",
       "12671          OTHERAPP  2016.7.20  \n",
       "214099         OTHERAPP  2016.7.21  "
      ]
     },
     "metadata": {},
     "execution_count": 65
    }
   ],
   "metadata": {}
  },
  {
   "cell_type": "code",
   "execution_count": 66,
   "source": [
    "# aggregation 집합\r\n",
    "q = \"\"\"\r\n",
    "    SELECT ext,\r\n",
    "           count(ext) as count,\r\n",
    "           count(distinct sessionid) as unq_sess\r\n",
    "      FROM df\r\n",
    "     GROUP BY ext\r\n",
    "     ORDER BY count DESC\r\n",
    "     \"\"\""
   ],
   "outputs": [],
   "metadata": {}
  },
  {
   "cell_type": "code",
   "execution_count": 67,
   "source": [
    "# sql문 해석\r\n",
    "\r\n",
    "# df에서 unq_sess, count coulmn생성(distinct sessionid기준, *)\r\n",
    "# ext를 pk로 하고\r\n",
    "# count를 기준으로 내림차순하여 정렬"
   ],
   "outputs": [],
   "metadata": {}
  },
  {
   "cell_type": "code",
   "execution_count": 68,
   "source": [
    "print(sqldf(q, locals()).to_string()) "
   ],
   "outputs": [
    {
     "output_type": "stream",
     "name": "stdout",
     "text": [
      "     ext  count  unq_sess\n",
      "0    PDF    812       804\n",
      "1   DOCX    559       558\n",
      "2   XLSX    522       519\n",
      "3    HWP    258       254\n",
      "4    XLS    253       253\n",
      "5    DOC    248       244\n",
      "6   PPTX    174       172\n",
      "7    TXT     98        98\n",
      "8    PPT     62        60\n",
      "9   PPSX     23        23\n",
      "10   ODT      9         9\n",
      "11   PPS      1         1\n"
     ]
    }
   ],
   "metadata": {}
  },
  {
   "cell_type": "code",
   "execution_count": 69,
   "source": [
    "# pandas\r\n",
    "df.groupby(\"ext\").agg({\"ext\": \"count\", \"sessionid\": \"nunique\"})\\\r\n",
    "  .rename(columns={\"ext\": \"ext_cnt\", \"sessionid\": \"session_cnt\"}).sort_values(\"ext_cnt\", ascending=False).reset_index()"
   ],
   "outputs": [
    {
     "output_type": "execute_result",
     "data": {
      "text/html": [
       "<div>\n",
       "<style scoped>\n",
       "    .dataframe tbody tr th:only-of-type {\n",
       "        vertical-align: middle;\n",
       "    }\n",
       "\n",
       "    .dataframe tbody tr th {\n",
       "        vertical-align: top;\n",
       "    }\n",
       "\n",
       "    .dataframe thead th {\n",
       "        text-align: right;\n",
       "    }\n",
       "</style>\n",
       "<table border=\"1\" class=\"dataframe\">\n",
       "  <thead>\n",
       "    <tr style=\"text-align: right;\">\n",
       "      <th></th>\n",
       "      <th>ext</th>\n",
       "      <th>ext_cnt</th>\n",
       "      <th>session_cnt</th>\n",
       "    </tr>\n",
       "  </thead>\n",
       "  <tbody>\n",
       "    <tr>\n",
       "      <th>0</th>\n",
       "      <td>PDF</td>\n",
       "      <td>812</td>\n",
       "      <td>804</td>\n",
       "    </tr>\n",
       "    <tr>\n",
       "      <th>1</th>\n",
       "      <td>DOCX</td>\n",
       "      <td>559</td>\n",
       "      <td>558</td>\n",
       "    </tr>\n",
       "    <tr>\n",
       "      <th>2</th>\n",
       "      <td>XLSX</td>\n",
       "      <td>522</td>\n",
       "      <td>519</td>\n",
       "    </tr>\n",
       "    <tr>\n",
       "      <th>3</th>\n",
       "      <td>HWP</td>\n",
       "      <td>258</td>\n",
       "      <td>254</td>\n",
       "    </tr>\n",
       "    <tr>\n",
       "      <th>4</th>\n",
       "      <td>XLS</td>\n",
       "      <td>253</td>\n",
       "      <td>253</td>\n",
       "    </tr>\n",
       "    <tr>\n",
       "      <th>5</th>\n",
       "      <td>DOC</td>\n",
       "      <td>248</td>\n",
       "      <td>244</td>\n",
       "    </tr>\n",
       "    <tr>\n",
       "      <th>6</th>\n",
       "      <td>PPTX</td>\n",
       "      <td>174</td>\n",
       "      <td>172</td>\n",
       "    </tr>\n",
       "    <tr>\n",
       "      <th>7</th>\n",
       "      <td>TXT</td>\n",
       "      <td>98</td>\n",
       "      <td>98</td>\n",
       "    </tr>\n",
       "    <tr>\n",
       "      <th>8</th>\n",
       "      <td>PPT</td>\n",
       "      <td>62</td>\n",
       "      <td>60</td>\n",
       "    </tr>\n",
       "    <tr>\n",
       "      <th>9</th>\n",
       "      <td>PPSX</td>\n",
       "      <td>23</td>\n",
       "      <td>23</td>\n",
       "    </tr>\n",
       "    <tr>\n",
       "      <th>10</th>\n",
       "      <td>ODT</td>\n",
       "      <td>9</td>\n",
       "      <td>9</td>\n",
       "    </tr>\n",
       "    <tr>\n",
       "      <th>11</th>\n",
       "      <td>PPS</td>\n",
       "      <td>1</td>\n",
       "      <td>1</td>\n",
       "    </tr>\n",
       "  </tbody>\n",
       "</table>\n",
       "</div>"
      ],
      "text/plain": [
       "     ext  ext_cnt  session_cnt\n",
       "0    PDF      812          804\n",
       "1   DOCX      559          558\n",
       "2   XLSX      522          519\n",
       "3    HWP      258          254\n",
       "4    XLS      253          253\n",
       "5    DOC      248          244\n",
       "6   PPTX      174          172\n",
       "7    TXT       98           98\n",
       "8    PPT       62           60\n",
       "9   PPSX       23           23\n",
       "10   ODT        9            9\n",
       "11   PPS        1            1"
      ]
     },
     "metadata": {},
     "execution_count": 69
    }
   ],
   "metadata": {}
  },
  {
   "cell_type": "code",
   "execution_count": 70,
   "source": [
    "# Join\r\n",
    "ios = pd.read_csv(\"./ios.csv\")\r\n",
    "\r\n",
    "ios.head()"
   ],
   "outputs": [
    {
     "output_type": "execute_result",
     "data": {
      "text/html": [
       "<div>\n",
       "<style scoped>\n",
       "    .dataframe tbody tr th:only-of-type {\n",
       "        vertical-align: middle;\n",
       "    }\n",
       "\n",
       "    .dataframe tbody tr th {\n",
       "        vertical-align: top;\n",
       "    }\n",
       "\n",
       "    .dataframe thead th {\n",
       "        text-align: right;\n",
       "    }\n",
       "</style>\n",
       "<table border=\"1\" class=\"dataframe\">\n",
       "  <thead>\n",
       "    <tr style=\"text-align: right;\">\n",
       "      <th></th>\n",
       "      <th>idx</th>\n",
       "      <th>sessionid</th>\n",
       "      <th>flag</th>\n",
       "    </tr>\n",
       "  </thead>\n",
       "  <tbody>\n",
       "    <tr>\n",
       "      <th>0</th>\n",
       "      <td>1331</td>\n",
       "      <td>b8a35b63d65e36fcbcf7284db362fa06</td>\n",
       "      <td>iOS</td>\n",
       "    </tr>\n",
       "    <tr>\n",
       "      <th>1</th>\n",
       "      <td>1335</td>\n",
       "      <td>ab9ea758f63a61463efa059c7183b976</td>\n",
       "      <td>iOS</td>\n",
       "    </tr>\n",
       "    <tr>\n",
       "      <th>2</th>\n",
       "      <td>1383</td>\n",
       "      <td>401e95152f65bcd9573bb1707967e82a</td>\n",
       "      <td>iOS</td>\n",
       "    </tr>\n",
       "    <tr>\n",
       "      <th>3</th>\n",
       "      <td>1385</td>\n",
       "      <td>7891c7016850ccca28b54b3f8f0c554e</td>\n",
       "      <td>iOS</td>\n",
       "    </tr>\n",
       "    <tr>\n",
       "      <th>4</th>\n",
       "      <td>1387</td>\n",
       "      <td>dd16321402b19a3f20261e6905e4e9bf</td>\n",
       "      <td>iOS</td>\n",
       "    </tr>\n",
       "  </tbody>\n",
       "</table>\n",
       "</div>"
      ],
      "text/plain": [
       "    idx                         sessionid flag\n",
       "0  1331  b8a35b63d65e36fcbcf7284db362fa06  iOS\n",
       "1  1335  ab9ea758f63a61463efa059c7183b976  iOS\n",
       "2  1383  401e95152f65bcd9573bb1707967e82a  iOS\n",
       "3  1385  7891c7016850ccca28b54b3f8f0c554e  iOS\n",
       "4  1387  dd16321402b19a3f20261e6905e4e9bf  iOS"
      ]
     },
     "metadata": {},
     "execution_count": 70
    }
   ],
   "metadata": {}
  },
  {
   "cell_type": "code",
   "execution_count": 71,
   "source": [
    "ios.info()"
   ],
   "outputs": [
    {
     "output_type": "stream",
     "name": "stdout",
     "text": [
      "<class 'pandas.core.frame.DataFrame'>\n",
      "RangeIndex: 100 entries, 0 to 99\n",
      "Data columns (total 3 columns):\n",
      " #   Column     Non-Null Count  Dtype \n",
      "---  ------     --------------  ----- \n",
      " 0   idx        100 non-null    int64 \n",
      " 1   sessionid  100 non-null    object\n",
      " 2   flag       100 non-null    object\n",
      "dtypes: int64(1), object(2)\n",
      "memory usage: 2.5+ KB\n"
     ]
    }
   ],
   "metadata": {}
  },
  {
   "cell_type": "code",
   "execution_count": 72,
   "source": [
    "len(ios.sessionid)"
   ],
   "outputs": [
    {
     "output_type": "execute_result",
     "data": {
      "text/plain": [
       "100"
      ]
     },
     "metadata": {},
     "execution_count": 72
    }
   ],
   "metadata": {}
  },
  {
   "cell_type": "code",
   "execution_count": 73,
   "source": [
    "len(ios.sessionid.unique())"
   ],
   "outputs": [
    {
     "output_type": "execute_result",
     "data": {
      "text/plain": [
       "100"
      ]
     },
     "metadata": {},
     "execution_count": 73
    }
   ],
   "metadata": {}
  },
  {
   "cell_type": "code",
   "execution_count": 74,
   "source": [
    "df.head()"
   ],
   "outputs": [
    {
     "output_type": "execute_result",
     "data": {
      "text/html": [
       "<div>\n",
       "<style scoped>\n",
       "    .dataframe tbody tr th:only-of-type {\n",
       "        vertical-align: middle;\n",
       "    }\n",
       "\n",
       "    .dataframe tbody tr th {\n",
       "        vertical-align: top;\n",
       "    }\n",
       "\n",
       "    .dataframe thead th {\n",
       "        text-align: right;\n",
       "    }\n",
       "</style>\n",
       "<table border=\"1\" class=\"dataframe\">\n",
       "  <thead>\n",
       "    <tr style=\"text-align: right;\">\n",
       "      <th></th>\n",
       "      <th>actiontype</th>\n",
       "      <th>ismydoc</th>\n",
       "      <th>ext</th>\n",
       "      <th>sessionid</th>\n",
       "      <th>documentposition</th>\n",
       "      <th>datetime</th>\n",
       "    </tr>\n",
       "  </thead>\n",
       "  <tbody>\n",
       "    <tr>\n",
       "      <th>193350</th>\n",
       "      <td>OPEN</td>\n",
       "      <td>False</td>\n",
       "      <td>DOCX</td>\n",
       "      <td>486acd701c13cd4339617f32dc595e6b</td>\n",
       "      <td>OTHERAPP</td>\n",
       "      <td>2016.7.9</td>\n",
       "    </tr>\n",
       "    <tr>\n",
       "      <th>109887</th>\n",
       "      <td>CLOSE</td>\n",
       "      <td>True</td>\n",
       "      <td>XLS</td>\n",
       "      <td>d1c2817a5ff1bf4b0ad4c914850871c9</td>\n",
       "      <td>OTHERAPP</td>\n",
       "      <td>2016.7.21</td>\n",
       "    </tr>\n",
       "    <tr>\n",
       "      <th>100239</th>\n",
       "      <td>OPEN</td>\n",
       "      <td>True</td>\n",
       "      <td>HWP</td>\n",
       "      <td>31b9a5d8b42fd0b24b6177ec9f51c947</td>\n",
       "      <td>OTHERAPP</td>\n",
       "      <td>2016.7.11</td>\n",
       "    </tr>\n",
       "    <tr>\n",
       "      <th>221157</th>\n",
       "      <td>CLOSE</td>\n",
       "      <td>False</td>\n",
       "      <td>DOCX</td>\n",
       "      <td>0402e047bafe86a8f32160eca341fb51</td>\n",
       "      <td>OTHERAPP</td>\n",
       "      <td>2016.7.18</td>\n",
       "    </tr>\n",
       "    <tr>\n",
       "      <th>275949</th>\n",
       "      <td>CLOSE</td>\n",
       "      <td>True</td>\n",
       "      <td>DOC</td>\n",
       "      <td>01e78a53c271a3ec67122faadc0f08ff</td>\n",
       "      <td>OTHERAPP</td>\n",
       "      <td>2016.7.22</td>\n",
       "    </tr>\n",
       "  </tbody>\n",
       "</table>\n",
       "</div>"
      ],
      "text/plain": [
       "       actiontype  ismydoc   ext                         sessionid  \\\n",
       "193350       OPEN    False  DOCX  486acd701c13cd4339617f32dc595e6b   \n",
       "109887      CLOSE     True   XLS  d1c2817a5ff1bf4b0ad4c914850871c9   \n",
       "100239       OPEN     True   HWP  31b9a5d8b42fd0b24b6177ec9f51c947   \n",
       "221157      CLOSE    False  DOCX  0402e047bafe86a8f32160eca341fb51   \n",
       "275949      CLOSE     True   DOC  01e78a53c271a3ec67122faadc0f08ff   \n",
       "\n",
       "       documentposition   datetime  \n",
       "193350         OTHERAPP   2016.7.9  \n",
       "109887         OTHERAPP  2016.7.21  \n",
       "100239         OTHERAPP  2016.7.11  \n",
       "221157         OTHERAPP  2016.7.18  \n",
       "275949         OTHERAPP  2016.7.22  "
      ]
     },
     "metadata": {},
     "execution_count": 74
    }
   ],
   "metadata": {}
  },
  {
   "cell_type": "code",
   "execution_count": 75,
   "source": [
    "## select only ios log data\r\n",
    "# duplicate check of ios table\r\n",
    "q = \"\"\"SELECT\r\n",
    "            count(sessionid) as session_all_cnt,\r\n",
    "            count(distinct sessionid) as session_uniq_cnt\r\n",
    "        FROM ios\r\n",
    "     \"\"\""
   ],
   "outputs": [],
   "metadata": {}
  },
  {
   "cell_type": "code",
   "execution_count": 76,
   "source": [
    "print(sqldf(q, locals()))"
   ],
   "outputs": [
    {
     "output_type": "stream",
     "name": "stdout",
     "text": [
      "   session_all_cnt  session_uniq_cnt\n",
      "0              100               100\n"
     ]
    }
   ],
   "metadata": {}
  },
  {
   "cell_type": "code",
   "execution_count": 77,
   "source": [
    "## join and select ios via flag col\r\n",
    "q = \"\"\"SELECT\r\n",
    "            A.*, \r\n",
    "            B.flag\r\n",
    "        FROM df A\r\n",
    "            LEFT JOIN \r\n",
    "            (\r\n",
    "            SELECT sessionid, flag\r\n",
    "            FROM ios\r\n",
    "            ) B\r\n",
    "            ON A.sessionid = B.sessionid\r\n",
    "        WHERE B.flag = 'iOS'    \r\n",
    "     \"\"\""
   ],
   "outputs": [],
   "metadata": {}
  },
  {
   "cell_type": "code",
   "execution_count": 78,
   "source": [
    "print(sqldf(q, locals()).to_string())"
   ],
   "outputs": [
    {
     "output_type": "stream",
     "name": "stdout",
     "text": [
      "  actiontype  ismydoc   ext                         sessionid documentposition   datetime flag\n",
      "0      CLOSE        0   PDF  401e95152f65bcd9573bb1707967e82a         OTHERAPP  2016.7.17  iOS\n",
      "1       OPEN        1   DOC  04966493ec324c3a1e711b8967d5fec8         OTHERAPP  2016.7.14  iOS\n",
      "2      CLOSE        0   PDF  0fe628b8406566d30791462be1e06300         OTHERAPP   2016.7.8  iOS\n",
      "3      CLOSE        0  XLSX  15461f4fd396442f08872ef0c86688b3         OTHERAPP  2016.7.22  iOS\n",
      "4       OPEN        1  XLSX  0ea96a02bceecbff38c0741474ebf703         OTHERAPP  2016.7.13  iOS\n"
     ]
    }
   ],
   "metadata": {}
  },
  {
   "cell_type": "code",
   "execution_count": 79,
   "source": [
    "# with pandas\r\n",
    "df.merge(ios, on=\"sessionid\", how=\"left\")\\\r\n",
    "  .query(\"flag =='iOS'\")\\\r\n",
    "  .drop('idx', axis=1) #axis=0 열로 정리됨, axis=1 행으로 정리됨."
   ],
   "outputs": [
    {
     "output_type": "execute_result",
     "data": {
      "text/html": [
       "<div>\n",
       "<style scoped>\n",
       "    .dataframe tbody tr th:only-of-type {\n",
       "        vertical-align: middle;\n",
       "    }\n",
       "\n",
       "    .dataframe tbody tr th {\n",
       "        vertical-align: top;\n",
       "    }\n",
       "\n",
       "    .dataframe thead th {\n",
       "        text-align: right;\n",
       "    }\n",
       "</style>\n",
       "<table border=\"1\" class=\"dataframe\">\n",
       "  <thead>\n",
       "    <tr style=\"text-align: right;\">\n",
       "      <th></th>\n",
       "      <th>actiontype</th>\n",
       "      <th>ismydoc</th>\n",
       "      <th>ext</th>\n",
       "      <th>sessionid</th>\n",
       "      <th>documentposition</th>\n",
       "      <th>datetime</th>\n",
       "      <th>flag</th>\n",
       "    </tr>\n",
       "  </thead>\n",
       "  <tbody>\n",
       "    <tr>\n",
       "      <th>175</th>\n",
       "      <td>OPEN</td>\n",
       "      <td>True</td>\n",
       "      <td>XLSX</td>\n",
       "      <td>0ea96a02bceecbff38c0741474ebf703</td>\n",
       "      <td>OTHERAPP</td>\n",
       "      <td>2016.7.13</td>\n",
       "      <td>iOS</td>\n",
       "    </tr>\n",
       "    <tr>\n",
       "      <th>1053</th>\n",
       "      <td>OPEN</td>\n",
       "      <td>True</td>\n",
       "      <td>DOC</td>\n",
       "      <td>04966493ec324c3a1e711b8967d5fec8</td>\n",
       "      <td>OTHERAPP</td>\n",
       "      <td>2016.7.14</td>\n",
       "      <td>iOS</td>\n",
       "    </tr>\n",
       "    <tr>\n",
       "      <th>1760</th>\n",
       "      <td>CLOSE</td>\n",
       "      <td>False</td>\n",
       "      <td>XLSX</td>\n",
       "      <td>15461f4fd396442f08872ef0c86688b3</td>\n",
       "      <td>OTHERAPP</td>\n",
       "      <td>2016.7.22</td>\n",
       "      <td>iOS</td>\n",
       "    </tr>\n",
       "    <tr>\n",
       "      <th>2017</th>\n",
       "      <td>CLOSE</td>\n",
       "      <td>False</td>\n",
       "      <td>PDF</td>\n",
       "      <td>0fe628b8406566d30791462be1e06300</td>\n",
       "      <td>OTHERAPP</td>\n",
       "      <td>2016.7.8</td>\n",
       "      <td>iOS</td>\n",
       "    </tr>\n",
       "    <tr>\n",
       "      <th>2042</th>\n",
       "      <td>CLOSE</td>\n",
       "      <td>False</td>\n",
       "      <td>PDF</td>\n",
       "      <td>401e95152f65bcd9573bb1707967e82a</td>\n",
       "      <td>OTHERAPP</td>\n",
       "      <td>2016.7.17</td>\n",
       "      <td>iOS</td>\n",
       "    </tr>\n",
       "  </tbody>\n",
       "</table>\n",
       "</div>"
      ],
      "text/plain": [
       "     actiontype  ismydoc   ext                         sessionid  \\\n",
       "175        OPEN     True  XLSX  0ea96a02bceecbff38c0741474ebf703   \n",
       "1053       OPEN     True   DOC  04966493ec324c3a1e711b8967d5fec8   \n",
       "1760      CLOSE    False  XLSX  15461f4fd396442f08872ef0c86688b3   \n",
       "2017      CLOSE    False   PDF  0fe628b8406566d30791462be1e06300   \n",
       "2042      CLOSE    False   PDF  401e95152f65bcd9573bb1707967e82a   \n",
       "\n",
       "     documentposition   datetime flag  \n",
       "175          OTHERAPP  2016.7.13  iOS  \n",
       "1053         OTHERAPP  2016.7.14  iOS  \n",
       "1760         OTHERAPP  2016.7.22  iOS  \n",
       "2017         OTHERAPP   2016.7.8  iOS  \n",
       "2042         OTHERAPP  2016.7.17  iOS  "
      ]
     },
     "metadata": {},
     "execution_count": 79
    }
   ],
   "metadata": {
    "scrolled": false
   }
  },
  {
   "cell_type": "markdown",
   "source": [
    "### Question 1\n",
    "- df 테이블의 Action Type 값(항목)별 유니크한 세션수는? \n",
    "- 유니크 세션수 기준으로 내림차순 정렬하기"
   ],
   "metadata": {}
  },
  {
   "cell_type": "code",
   "execution_count": 80,
   "source": [
    "df = pd.read_csv(\"./doc_use_log.csv\").sample(frac=0.01, replace=False)\r\n",
    "\r\n",
    "q = \"\"\"\r\n",
    "    SELECT actiontype,\r\n",
    "           count(distinct sessionid) as unq_sess\r\n",
    "      FROM df\r\n",
    "     GROUP BY actiontype\r\n",
    "     ORDER BY unq_sess DESC\r\n",
    "     \"\"\""
   ],
   "outputs": [],
   "metadata": {}
  },
  {
   "cell_type": "code",
   "execution_count": 81,
   "source": [
    "df.head()"
   ],
   "outputs": [
    {
     "output_type": "execute_result",
     "data": {
      "text/html": [
       "<div>\n",
       "<style scoped>\n",
       "    .dataframe tbody tr th:only-of-type {\n",
       "        vertical-align: middle;\n",
       "    }\n",
       "\n",
       "    .dataframe tbody tr th {\n",
       "        vertical-align: top;\n",
       "    }\n",
       "\n",
       "    .dataframe thead th {\n",
       "        text-align: right;\n",
       "    }\n",
       "</style>\n",
       "<table border=\"1\" class=\"dataframe\">\n",
       "  <thead>\n",
       "    <tr style=\"text-align: right;\">\n",
       "      <th></th>\n",
       "      <th>actiontype</th>\n",
       "      <th>ismydoc</th>\n",
       "      <th>ext</th>\n",
       "      <th>sessionid</th>\n",
       "      <th>documentposition</th>\n",
       "      <th>datetime</th>\n",
       "    </tr>\n",
       "  </thead>\n",
       "  <tbody>\n",
       "    <tr>\n",
       "      <th>294635</th>\n",
       "      <td>OPEN</td>\n",
       "      <td>False</td>\n",
       "      <td>HWP</td>\n",
       "      <td>b18c52cfd52f8a85b729e086eda42fda</td>\n",
       "      <td>OTHERAPP</td>\n",
       "      <td>2016.7.20</td>\n",
       "    </tr>\n",
       "    <tr>\n",
       "      <th>288325</th>\n",
       "      <td>CLOSE</td>\n",
       "      <td>True</td>\n",
       "      <td>DOCX</td>\n",
       "      <td>bfcc17b556a274fd9ae0aeb9782a65d5</td>\n",
       "      <td>OTHERAPP</td>\n",
       "      <td>2016.7.12</td>\n",
       "    </tr>\n",
       "    <tr>\n",
       "      <th>190336</th>\n",
       "      <td>OPEN</td>\n",
       "      <td>True</td>\n",
       "      <td>DOCX</td>\n",
       "      <td>b0f4de689584a2f8f0cc006c0cda02b9</td>\n",
       "      <td>MYPOLARISDRIVE</td>\n",
       "      <td>2016.7.13</td>\n",
       "    </tr>\n",
       "    <tr>\n",
       "      <th>123897</th>\n",
       "      <td>OPEN</td>\n",
       "      <td>False</td>\n",
       "      <td>DOCX</td>\n",
       "      <td>1abe18b1ebc2bf75a4236c75bdd7cae3</td>\n",
       "      <td>OTHERAPP</td>\n",
       "      <td>2016.7.16</td>\n",
       "    </tr>\n",
       "    <tr>\n",
       "      <th>96649</th>\n",
       "      <td>CLOSE</td>\n",
       "      <td>True</td>\n",
       "      <td>PDF</td>\n",
       "      <td>91f442cb82e3245577d5db07bd868308</td>\n",
       "      <td>OTHERAPP</td>\n",
       "      <td>2016.7.25</td>\n",
       "    </tr>\n",
       "  </tbody>\n",
       "</table>\n",
       "</div>"
      ],
      "text/plain": [
       "       actiontype  ismydoc   ext                         sessionid  \\\n",
       "294635       OPEN    False   HWP  b18c52cfd52f8a85b729e086eda42fda   \n",
       "288325      CLOSE     True  DOCX  bfcc17b556a274fd9ae0aeb9782a65d5   \n",
       "190336       OPEN     True  DOCX  b0f4de689584a2f8f0cc006c0cda02b9   \n",
       "123897       OPEN    False  DOCX  1abe18b1ebc2bf75a4236c75bdd7cae3   \n",
       "96649       CLOSE     True   PDF  91f442cb82e3245577d5db07bd868308   \n",
       "\n",
       "       documentposition   datetime  \n",
       "294635         OTHERAPP  2016.7.20  \n",
       "288325         OTHERAPP  2016.7.12  \n",
       "190336   MYPOLARISDRIVE  2016.7.13  \n",
       "123897         OTHERAPP  2016.7.16  \n",
       "96649          OTHERAPP  2016.7.25  "
      ]
     },
     "metadata": {},
     "execution_count": 81
    }
   ],
   "metadata": {}
  },
  {
   "cell_type": "code",
   "execution_count": 82,
   "source": [
    "print(sqldf(q, locals()))"
   ],
   "outputs": [
    {
     "output_type": "stream",
     "name": "stdout",
     "text": [
      "  actiontype  unq_sess\n",
      "0       OPEN      1495\n",
      "1      CLOSE      1300\n",
      "2       SAVE        97\n",
      "3      RESET        79\n",
      "4     SAVEAS        41\n"
     ]
    }
   ],
   "metadata": {}
  },
  {
   "cell_type": "markdown",
   "source": [
    "### **정답**"
   ],
   "metadata": {}
  },
  {
   "cell_type": "code",
   "execution_count": 83,
   "source": [
    "q = \"\"\"\r\n",
    "    SELECT actiontype,\r\n",
    "           count (distinct sessionid) as session_cnt_uniq\r\n",
    "      FROM df\r\n",
    "     GROUP BY actiontype\r\n",
    "     ORDER BY session_cnt_uniq DESC\r\n",
    "     \"\"\"\r\n",
    "print(sqldf(q, locals()).to_string())"
   ],
   "outputs": [
    {
     "output_type": "stream",
     "name": "stdout",
     "text": [
      "  actiontype  session_cnt_uniq\n",
      "0       OPEN              1495\n",
      "1      CLOSE              1300\n",
      "2       SAVE                97\n",
      "3      RESET                79\n",
      "4     SAVEAS                41\n"
     ]
    }
   ],
   "metadata": {}
  },
  {
   "cell_type": "code",
   "execution_count": 106,
   "source": [
    "# with pandas\r\n",
    "df.query(\"ismydoc == 'false'\").groupby(\"actiontype\")['sessionid'].nunique().sort_values(ascending=False).reset_index()"
   ],
   "outputs": [
    {
     "output_type": "execute_result",
     "data": {
      "text/html": [
       "<div>\n",
       "<style scoped>\n",
       "    .dataframe tbody tr th:only-of-type {\n",
       "        vertical-align: middle;\n",
       "    }\n",
       "\n",
       "    .dataframe tbody tr th {\n",
       "        vertical-align: top;\n",
       "    }\n",
       "\n",
       "    .dataframe thead th {\n",
       "        text-align: right;\n",
       "    }\n",
       "</style>\n",
       "<table border=\"1\" class=\"dataframe\">\n",
       "  <thead>\n",
       "    <tr style=\"text-align: right;\">\n",
       "      <th></th>\n",
       "      <th>actiontype</th>\n",
       "      <th>sessionid</th>\n",
       "    </tr>\n",
       "  </thead>\n",
       "  <tbody>\n",
       "  </tbody>\n",
       "</table>\n",
       "</div>"
      ],
      "text/plain": [
       "Empty DataFrame\n",
       "Columns: [actiontype, sessionid]\n",
       "Index: []"
      ]
     },
     "metadata": {},
     "execution_count": 106
    }
   ],
   "metadata": {}
  },
  {
   "cell_type": "markdown",
   "source": [
    "### Question 2   \n",
    "- ismydoc이 1(True)인 경우에 한해, 날짜별 세션수의 유니크 빈도 구하기\n",
    "- 유니크 빈도가 가장 큰 top 5 날짜 확인하기"
   ],
   "metadata": {}
  },
  {
   "cell_type": "code",
   "execution_count": 107,
   "source": [
    "q = \"\"\"\r\n",
    "    SELECT datetime,\r\n",
    "           count (distinct sessionid) as session_cnt_uniq\r\n",
    "      FROM df \r\n",
    "     WHERE ismydoc = '1'\r\n",
    "     group by datetime\r\n",
    "     order by session_cnt_uniq desc \r\n",
    "     LIMIT 5\r\n",
    "    \"\"\"\r\n",
    "print(sqldf(q, locals()).to_string())"
   ],
   "outputs": [
    {
     "output_type": "stream",
     "name": "stdout",
     "text": [
      "    datetime  session_cnt_uniq\n",
      "0  2016.7.20                55\n",
      "1  2016.7.27                50\n",
      "2  2016.7.26                49\n",
      "3  2016.7.22                48\n",
      "4  2016.7.19                48\n"
     ]
    }
   ],
   "metadata": {}
  },
  {
   "cell_type": "markdown",
   "source": [
    "### **정답**"
   ],
   "metadata": {}
  },
  {
   "cell_type": "code",
   "execution_count": 108,
   "source": [
    "q = \"\"\"\r\n",
    "    SELECT datetime,\r\n",
    "           count (distinct sessionid) as session_cnt_uniq\r\n",
    "      FROM df\r\n",
    "     WHERE ismydoc = '1'\r\n",
    "     GROUP BY datetime\r\n",
    "     ORDER BY session_cnt_uniq DESC\r\n",
    "     LIMIT 5\r\n",
    "    \"\"\"\r\n",
    "print(sqldf(q, locals()).to_string())"
   ],
   "outputs": [
    {
     "output_type": "stream",
     "name": "stdout",
     "text": [
      "    datetime  session_cnt_uniq\n",
      "0  2016.7.20                55\n",
      "1  2016.7.27                50\n",
      "2  2016.7.26                49\n",
      "3  2016.7.22                48\n",
      "4  2016.7.19                48\n"
     ]
    }
   ],
   "metadata": {}
  },
  {
   "cell_type": "code",
   "execution_count": 113,
   "source": [
    "# with pandas\r\n",
    "df.query(\"ismydoc == '1'\").groupby(\"datetime\")['sessionid'].nunique().sort_values(ascending=False).head(5).reset_index()"
   ],
   "outputs": [
    {
     "output_type": "execute_result",
     "data": {
      "text/html": [
       "<div>\n",
       "<style scoped>\n",
       "    .dataframe tbody tr th:only-of-type {\n",
       "        vertical-align: middle;\n",
       "    }\n",
       "\n",
       "    .dataframe tbody tr th {\n",
       "        vertical-align: top;\n",
       "    }\n",
       "\n",
       "    .dataframe thead th {\n",
       "        text-align: right;\n",
       "    }\n",
       "</style>\n",
       "<table border=\"1\" class=\"dataframe\">\n",
       "  <thead>\n",
       "    <tr style=\"text-align: right;\">\n",
       "      <th></th>\n",
       "      <th>datetime</th>\n",
       "      <th>sessionid</th>\n",
       "    </tr>\n",
       "  </thead>\n",
       "  <tbody>\n",
       "  </tbody>\n",
       "</table>\n",
       "</div>"
      ],
      "text/plain": [
       "Empty DataFrame\n",
       "Columns: [datetime, sessionid]\n",
       "Index: []"
      ]
     },
     "metadata": {},
     "execution_count": 113
    }
   ],
   "metadata": {}
  },
  {
   "cell_type": "markdown",
   "source": [
    "### Question 3\n",
    "- 문서 포지션별(documentposition)로 자주 OPEN 되는 확장자(ext)를 확인하기\n",
    "- 카운트 기준: unique sessionid\n",
    "- 그룹별, 세션카운트 기준 desc 정렬"
   ],
   "metadata": {}
  },
  {
   "cell_type": "code",
   "execution_count": 114,
   "source": [
    "df.head()"
   ],
   "outputs": [
    {
     "output_type": "execute_result",
     "data": {
      "text/html": [
       "<div>\n",
       "<style scoped>\n",
       "    .dataframe tbody tr th:only-of-type {\n",
       "        vertical-align: middle;\n",
       "    }\n",
       "\n",
       "    .dataframe tbody tr th {\n",
       "        vertical-align: top;\n",
       "    }\n",
       "\n",
       "    .dataframe thead th {\n",
       "        text-align: right;\n",
       "    }\n",
       "</style>\n",
       "<table border=\"1\" class=\"dataframe\">\n",
       "  <thead>\n",
       "    <tr style=\"text-align: right;\">\n",
       "      <th></th>\n",
       "      <th>actiontype</th>\n",
       "      <th>ismydoc</th>\n",
       "      <th>ext</th>\n",
       "      <th>sessionid</th>\n",
       "      <th>documentposition</th>\n",
       "      <th>datetime</th>\n",
       "    </tr>\n",
       "  </thead>\n",
       "  <tbody>\n",
       "    <tr>\n",
       "      <th>147040</th>\n",
       "      <td>RESET</td>\n",
       "      <td>True</td>\n",
       "      <td>PPT</td>\n",
       "      <td>7fb21bf73c9ffb361d408b723629b9f3</td>\n",
       "      <td>OTHERAPP</td>\n",
       "      <td>2016.7.17</td>\n",
       "    </tr>\n",
       "    <tr>\n",
       "      <th>51081</th>\n",
       "      <td>OPEN</td>\n",
       "      <td>True</td>\n",
       "      <td>PDF</td>\n",
       "      <td>9010fb4c329b3ade187f64a1631adc80</td>\n",
       "      <td>OTHERAPP</td>\n",
       "      <td>2016.7.22</td>\n",
       "    </tr>\n",
       "    <tr>\n",
       "      <th>287519</th>\n",
       "      <td>OPEN</td>\n",
       "      <td>True</td>\n",
       "      <td>PDF</td>\n",
       "      <td>7b9ce43b827869285d1affcccd252ff8</td>\n",
       "      <td>MYPOLARISDRIVE</td>\n",
       "      <td>2016.7.27</td>\n",
       "    </tr>\n",
       "    <tr>\n",
       "      <th>91085</th>\n",
       "      <td>CLOSE</td>\n",
       "      <td>True</td>\n",
       "      <td>HWP</td>\n",
       "      <td>ee73f250a15c88f2bc11f7efcde777f9</td>\n",
       "      <td>OTHERAPP</td>\n",
       "      <td>2016.7.7</td>\n",
       "    </tr>\n",
       "    <tr>\n",
       "      <th>124475</th>\n",
       "      <td>OPEN</td>\n",
       "      <td>False</td>\n",
       "      <td>PDF</td>\n",
       "      <td>22ffe6528b23326f8451268929075e9b</td>\n",
       "      <td>OTHERAPP</td>\n",
       "      <td>2016.7.1</td>\n",
       "    </tr>\n",
       "  </tbody>\n",
       "</table>\n",
       "</div>"
      ],
      "text/plain": [
       "       actiontype  ismydoc  ext                         sessionid  \\\n",
       "147040      RESET     True  PPT  7fb21bf73c9ffb361d408b723629b9f3   \n",
       "51081        OPEN     True  PDF  9010fb4c329b3ade187f64a1631adc80   \n",
       "287519       OPEN     True  PDF  7b9ce43b827869285d1affcccd252ff8   \n",
       "91085       CLOSE     True  HWP  ee73f250a15c88f2bc11f7efcde777f9   \n",
       "124475       OPEN    False  PDF  22ffe6528b23326f8451268929075e9b   \n",
       "\n",
       "       documentposition   datetime  \n",
       "147040         OTHERAPP  2016.7.17  \n",
       "51081          OTHERAPP  2016.7.22  \n",
       "287519   MYPOLARISDRIVE  2016.7.27  \n",
       "91085          OTHERAPP   2016.7.7  \n",
       "124475         OTHERAPP   2016.7.1  "
      ]
     },
     "metadata": {},
     "execution_count": 114
    }
   ],
   "metadata": {}
  },
  {
   "cell_type": "code",
   "execution_count": 119,
   "source": [
    "q = \"\"\"\r\n",
    "    SELECT documentposition,\r\n",
    "           ext,\r\n",
    "           count(distinct sessionid) as session_cnt_uniq\r\n",
    "      from df\r\n",
    "    where actiontype = 'OPEN'\r\n",
    "    group by documentposition, ext\r\n",
    "    order by documentposition, session_cnt_uniq desc\r\n",
    "    \"\"\"\r\n",
    "print(sqldf(q, locals()).to_string())"
   ],
   "outputs": [
    {
     "output_type": "stream",
     "name": "stdout",
     "text": [
      "   documentposition   ext  session_cnt_uniq\n",
      "0      LOCALSTORAGE  XLSX                18\n",
      "1      LOCALSTORAGE   HWP                17\n",
      "2      LOCALSTORAGE   PDF                12\n",
      "3      LOCALSTORAGE  DOCX                12\n",
      "4      LOCALSTORAGE   TXT                 9\n",
      "5      LOCALSTORAGE   XLS                 6\n",
      "6      LOCALSTORAGE  PPTX                 6\n",
      "7      LOCALSTORAGE   DOC                 3\n",
      "8    MYPOLARISDRIVE  XLSX                53\n",
      "9    MYPOLARISDRIVE   PDF                51\n",
      "10   MYPOLARISDRIVE  DOCX                47\n",
      "11   MYPOLARISDRIVE   HWP                19\n",
      "12   MYPOLARISDRIVE   XLS                17\n",
      "13   MYPOLARISDRIVE   TXT                13\n",
      "14   MYPOLARISDRIVE  PPSX                11\n",
      "15   MYPOLARISDRIVE   DOC                11\n",
      "16   MYPOLARISDRIVE  PPTX                 8\n",
      "17   MYPOLARISDRIVE   PPT                 6\n",
      "18   MYPOLARISDRIVE   ODT                 1\n",
      "19      NEWDOCUMENT  DOCX                32\n",
      "20      NEWDOCUMENT  XLSX                10\n",
      "21      NEWDOCUMENT   HWP                 7\n",
      "22      NEWDOCUMENT  PPTX                 6\n",
      "23      NEWDOCUMENT   TXT                 2\n",
      "24      NEWDOCUMENT   DOC                 1\n",
      "25         OTHERAPP   PDF               317\n",
      "26         OTHERAPP  DOCX               205\n",
      "27         OTHERAPP  XLSX               157\n",
      "28         OTHERAPP   DOC               105\n",
      "29         OTHERAPP   XLS                94\n",
      "30         OTHERAPP   HWP                88\n",
      "31         OTHERAPP  PPTX                63\n",
      "32         OTHERAPP   TXT                25\n",
      "33         OTHERAPP   PPT                20\n",
      "34         OTHERAPP   ODT                 3\n",
      "35         OTHERAPP  PPSX                 1\n",
      "36         OTHERAPP   PPS                 1\n",
      "37       OTHERCLOUD  XLSX                 6\n",
      "38       OTHERCLOUD   PDF                 2\n",
      "39       OTHERCLOUD  DOCX                 2\n"
     ]
    }
   ],
   "metadata": {}
  },
  {
   "cell_type": "markdown",
   "source": [
    "### **정답**"
   ],
   "metadata": {}
  },
  {
   "cell_type": "code",
   "execution_count": 118,
   "source": [
    "q = \"\"\"\r\n",
    "    SELECT documentposition,\r\n",
    "           ext,\r\n",
    "           COUNT (DISTINCT sessionid) as session_cnt_uniq\r\n",
    "      FROM df\r\n",
    "     WHERE actiontype = 'OPEN' \r\n",
    "     GROUP BY documentposition, ext\r\n",
    "     ORDER BY documentposition, session_cnt_uniq DESC\r\n",
    "     \"\"\"\r\n",
    "print(sqldf(q, locals()).to_string())"
   ],
   "outputs": [
    {
     "output_type": "stream",
     "name": "stdout",
     "text": [
      "   documentposition   ext  session_cnt_uniq\n",
      "0      LOCALSTORAGE  XLSX                18\n",
      "1      LOCALSTORAGE   HWP                17\n",
      "2      LOCALSTORAGE   PDF                12\n",
      "3      LOCALSTORAGE  DOCX                12\n",
      "4      LOCALSTORAGE   TXT                 9\n",
      "5      LOCALSTORAGE   XLS                 6\n",
      "6      LOCALSTORAGE  PPTX                 6\n",
      "7      LOCALSTORAGE   DOC                 3\n",
      "8    MYPOLARISDRIVE  XLSX                53\n",
      "9    MYPOLARISDRIVE   PDF                51\n",
      "10   MYPOLARISDRIVE  DOCX                47\n",
      "11   MYPOLARISDRIVE   HWP                19\n",
      "12   MYPOLARISDRIVE   XLS                17\n",
      "13   MYPOLARISDRIVE   TXT                13\n",
      "14   MYPOLARISDRIVE  PPSX                11\n",
      "15   MYPOLARISDRIVE   DOC                11\n",
      "16   MYPOLARISDRIVE  PPTX                 8\n",
      "17   MYPOLARISDRIVE   PPT                 6\n",
      "18   MYPOLARISDRIVE   ODT                 1\n",
      "19      NEWDOCUMENT  DOCX                32\n",
      "20      NEWDOCUMENT  XLSX                10\n",
      "21      NEWDOCUMENT   HWP                 7\n",
      "22      NEWDOCUMENT  PPTX                 6\n",
      "23      NEWDOCUMENT   TXT                 2\n",
      "24      NEWDOCUMENT   DOC                 1\n",
      "25         OTHERAPP   PDF               317\n",
      "26         OTHERAPP  DOCX               205\n",
      "27         OTHERAPP  XLSX               157\n",
      "28         OTHERAPP   DOC               105\n",
      "29         OTHERAPP   XLS                94\n",
      "30         OTHERAPP   HWP                88\n",
      "31         OTHERAPP  PPTX                63\n",
      "32         OTHERAPP   TXT                25\n",
      "33         OTHERAPP   PPT                20\n",
      "34         OTHERAPP   ODT                 3\n",
      "35         OTHERAPP  PPSX                 1\n",
      "36         OTHERAPP   PPS                 1\n",
      "37       OTHERCLOUD  XLSX                 6\n",
      "38       OTHERCLOUD   PDF                 2\n",
      "39       OTHERCLOUD  DOCX                 2\n"
     ]
    }
   ],
   "metadata": {}
  },
  {
   "cell_type": "code",
   "execution_count": 120,
   "source": [
    "# with pandas\r\n",
    "df.query(\"actiontype == 'OPEN'\").groupby(['documentposition', 'ext'])['sessionid'].count().unstack().fillna(0)"
   ],
   "outputs": [
    {
     "output_type": "execute_result",
     "data": {
      "text/html": [
       "<div>\n",
       "<style scoped>\n",
       "    .dataframe tbody tr th:only-of-type {\n",
       "        vertical-align: middle;\n",
       "    }\n",
       "\n",
       "    .dataframe tbody tr th {\n",
       "        vertical-align: top;\n",
       "    }\n",
       "\n",
       "    .dataframe thead th {\n",
       "        text-align: right;\n",
       "    }\n",
       "</style>\n",
       "<table border=\"1\" class=\"dataframe\">\n",
       "  <thead>\n",
       "    <tr style=\"text-align: right;\">\n",
       "      <th>ext</th>\n",
       "      <th>DOC</th>\n",
       "      <th>DOCX</th>\n",
       "      <th>HWP</th>\n",
       "      <th>ODT</th>\n",
       "      <th>PDF</th>\n",
       "      <th>PPS</th>\n",
       "      <th>PPSX</th>\n",
       "      <th>PPT</th>\n",
       "      <th>PPTX</th>\n",
       "      <th>TXT</th>\n",
       "      <th>XLS</th>\n",
       "      <th>XLSX</th>\n",
       "    </tr>\n",
       "    <tr>\n",
       "      <th>documentposition</th>\n",
       "      <th></th>\n",
       "      <th></th>\n",
       "      <th></th>\n",
       "      <th></th>\n",
       "      <th></th>\n",
       "      <th></th>\n",
       "      <th></th>\n",
       "      <th></th>\n",
       "      <th></th>\n",
       "      <th></th>\n",
       "      <th></th>\n",
       "      <th></th>\n",
       "    </tr>\n",
       "  </thead>\n",
       "  <tbody>\n",
       "    <tr>\n",
       "      <th>LOCALSTORAGE</th>\n",
       "      <td>3.0</td>\n",
       "      <td>12.0</td>\n",
       "      <td>17.0</td>\n",
       "      <td>0.0</td>\n",
       "      <td>12.0</td>\n",
       "      <td>0.0</td>\n",
       "      <td>0.0</td>\n",
       "      <td>0.0</td>\n",
       "      <td>6.0</td>\n",
       "      <td>9.0</td>\n",
       "      <td>6.0</td>\n",
       "      <td>18.0</td>\n",
       "    </tr>\n",
       "    <tr>\n",
       "      <th>MYPOLARISDRIVE</th>\n",
       "      <td>11.0</td>\n",
       "      <td>47.0</td>\n",
       "      <td>19.0</td>\n",
       "      <td>1.0</td>\n",
       "      <td>51.0</td>\n",
       "      <td>0.0</td>\n",
       "      <td>11.0</td>\n",
       "      <td>6.0</td>\n",
       "      <td>8.0</td>\n",
       "      <td>13.0</td>\n",
       "      <td>17.0</td>\n",
       "      <td>53.0</td>\n",
       "    </tr>\n",
       "    <tr>\n",
       "      <th>NEWDOCUMENT</th>\n",
       "      <td>1.0</td>\n",
       "      <td>32.0</td>\n",
       "      <td>7.0</td>\n",
       "      <td>0.0</td>\n",
       "      <td>0.0</td>\n",
       "      <td>0.0</td>\n",
       "      <td>0.0</td>\n",
       "      <td>0.0</td>\n",
       "      <td>6.0</td>\n",
       "      <td>2.0</td>\n",
       "      <td>0.0</td>\n",
       "      <td>10.0</td>\n",
       "    </tr>\n",
       "    <tr>\n",
       "      <th>OTHERAPP</th>\n",
       "      <td>105.0</td>\n",
       "      <td>205.0</td>\n",
       "      <td>88.0</td>\n",
       "      <td>3.0</td>\n",
       "      <td>317.0</td>\n",
       "      <td>1.0</td>\n",
       "      <td>1.0</td>\n",
       "      <td>20.0</td>\n",
       "      <td>63.0</td>\n",
       "      <td>25.0</td>\n",
       "      <td>94.0</td>\n",
       "      <td>157.0</td>\n",
       "    </tr>\n",
       "    <tr>\n",
       "      <th>OTHERCLOUD</th>\n",
       "      <td>0.0</td>\n",
       "      <td>2.0</td>\n",
       "      <td>0.0</td>\n",
       "      <td>0.0</td>\n",
       "      <td>2.0</td>\n",
       "      <td>0.0</td>\n",
       "      <td>0.0</td>\n",
       "      <td>0.0</td>\n",
       "      <td>0.0</td>\n",
       "      <td>0.0</td>\n",
       "      <td>0.0</td>\n",
       "      <td>6.0</td>\n",
       "    </tr>\n",
       "  </tbody>\n",
       "</table>\n",
       "</div>"
      ],
      "text/plain": [
       "ext                 DOC   DOCX   HWP  ODT    PDF  PPS  PPSX   PPT  PPTX   TXT  \\\n",
       "documentposition                                                                \n",
       "LOCALSTORAGE        3.0   12.0  17.0  0.0   12.0  0.0   0.0   0.0   6.0   9.0   \n",
       "MYPOLARISDRIVE     11.0   47.0  19.0  1.0   51.0  0.0  11.0   6.0   8.0  13.0   \n",
       "NEWDOCUMENT         1.0   32.0   7.0  0.0    0.0  0.0   0.0   0.0   6.0   2.0   \n",
       "OTHERAPP          105.0  205.0  88.0  3.0  317.0  1.0   1.0  20.0  63.0  25.0   \n",
       "OTHERCLOUD          0.0    2.0   0.0  0.0    2.0  0.0   0.0   0.0   0.0   0.0   \n",
       "\n",
       "ext                XLS   XLSX  \n",
       "documentposition               \n",
       "LOCALSTORAGE       6.0   18.0  \n",
       "MYPOLARISDRIVE    17.0   53.0  \n",
       "NEWDOCUMENT        0.0   10.0  \n",
       "OTHERAPP          94.0  157.0  \n",
       "OTHERCLOUD         0.0    6.0  "
      ]
     },
     "metadata": {},
     "execution_count": 120
    }
   ],
   "metadata": {}
  }
 ],
 "metadata": {
  "kernelspec": {
   "name": "python3",
   "display_name": "Python 3.8.10 64-bit ('AIMath': conda)"
  },
  "language_info": {
   "codemirror_mode": {
    "name": "ipython",
    "version": 3
   },
   "file_extension": ".py",
   "mimetype": "text/x-python",
   "name": "python",
   "nbconvert_exporter": "python",
   "pygments_lexer": "ipython3",
   "version": "3.8.10"
  },
  "interpreter": {
   "hash": "53a6f66994d44a531c15dda9534cca6a0a046d02bce3524de6c1f8e9a8c07fb2"
  }
 },
 "nbformat": 4,
 "nbformat_minor": 2
}